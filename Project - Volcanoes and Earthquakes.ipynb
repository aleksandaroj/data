{
 "cells": [
  {
   "cell_type": "code",
   "execution_count": 1,
   "metadata": {},
   "outputs": [],
   "source": [
    "import requests as r\n",
    "from bs4 import BeautifulSoup\n",
    "import pandas as pd"
   ]
  },
  {
   "cell_type": "markdown",
   "metadata": {},
   "source": [
    "## Import public data set about Earthquakes 1900-Present"
   ]
  },
  {
   "cell_type": "markdown",
   "metadata": {},
   "source": [
    "### Import Wikipedia data of deadliest earthquakes of 20th-century (country and date list)\n",
    "\n",
    "- isolating headers\n",
    "- isolating data rows\n",
    "- merging headers and data rows into data frame"
   ]
  },
  {
   "cell_type": "code",
   "execution_count": 2,
   "metadata": {},
   "outputs": [],
   "source": [
    "wiki_url = \"https://en.wikipedia.org/wiki/Lists_of_20th-century_earthquakes\""
   ]
  },
  {
   "cell_type": "code",
   "execution_count": 3,
   "metadata": {},
   "outputs": [],
   "source": [
    "# table_id = \"List_of_deadliest_earthquakes\" # table is not accessible via id"
   ]
  },
  {
   "cell_type": "code",
   "execution_count": 4,
   "metadata": {},
   "outputs": [],
   "source": [
    "response = r.get(wiki_url)"
   ]
  },
  {
   "cell_type": "code",
   "execution_count": 5,
   "metadata": {},
   "outputs": [],
   "source": [
    "soup = BeautifulSoup(response.text, 'html.parser')"
   ]
  },
  {
   "cell_type": "code",
   "execution_count": 6,
   "metadata": {},
   "outputs": [],
   "source": [
    "ds = soup.table"
   ]
  },
  {
   "cell_type": "code",
   "execution_count": 7,
   "metadata": {},
   "outputs": [],
   "source": [
    "# list of column names\n",
    "\n",
    "header_tags = ds.find_all('th')\n",
    "\n",
    "ths = [th.string.strip() for th in header_tags]"
   ]
  },
  {
   "cell_type": "code",
   "execution_count": 8,
   "metadata": {},
   "outputs": [],
   "source": [
    "# isolating rows only with data\n",
    "\n",
    "data_rows = ds.find_all('tr')"
   ]
  },
  {
   "cell_type": "code",
   "execution_count": 9,
   "metadata": {},
   "outputs": [
    {
     "name": "stdout",
     "output_type": "stream",
     "text": [
      "[]\n",
      "['1', '273,400', '7.8 Ms', '1920 Haiyuan earthquake', 'China', '16 December 1920']\n",
      "['2', '242,000', '7.6', '1976 Tangshan earthquake', 'China', '28 July 1976']\n",
      "['3', '142,800', '8.2', '1923 Great Kantō earthquake', 'Japan', '1 September 1923']\n",
      "['4', '110,000', '7.3 Ms', '1948 Ashgabat earthquake', 'Turkmen SSR', '5 October 1948']\n",
      "['5', '82,000', '7.1 Ms', '1908 Messina earthquake', 'Italy', '28 December 1908']\n",
      "['6', '70,000', '7.9', '1970 Ancash earthquake', 'Peru', '31 May 1970']\n",
      "['7', '60,000', '7.7', '1935 Quetta earthquake', 'Pakistan', '31 May 1935']\n",
      "['8', '50,000', '7.4', '1990 Manjil–Rudbar earthquake', 'Iran', '21 June 1990']\n",
      "['9', '40,900', '7.6', '1927 Gulang earthquake', 'China', '22 May 1927']\n",
      "['10', '32,700', '7.8', '1939 Erzincan earthquake', 'Turkey', '26 December 1939']\n",
      "['11', '32,610', '6.7 Ms', '1915 Avezzano earthquake', 'Italy', '13 January 1915']\n",
      "['12', '28,000', '8.3 Ms', '1939 Chillán earthquake', 'Chile', '24 January 1939']\n",
      "['13', '25,000', '6.8 Ms', '1988 Armenian earthquake', 'Armenian SSR', '7 December 1988']\n",
      "['14', '23,000', '7.5', '1976 Guatemala earthquake', 'Guatemala', '4 February 1976']\n",
      "['15', '20,000', '7.8 Ms', '1905 Kangra earthquake', 'India', '4 April 1905']\n",
      "['16', '17,127', '7.6', '1999 İzmit earthquake', 'Turkey', '17 August 1999']\n",
      "['17', '15,621', '7.1', '1970 Tonghai earthquake', 'China', '5 January 1970']\n",
      "['18', '15,000', '7.4', '1978 Tabas earthquake', 'Iran', '16 September 1978']\n",
      "['18', '15,000', '7.4', '1968 Dasht-e Bayaz and Ferdows earthquakes', 'Iran', '31 August 1968']\n",
      "['20', '12,225', '7.1 ML', '1962 Buin Zahra earthquake', 'Iran', '1 September 1962']\n",
      "['21', '12,000', '7.3 Ms', '1907 Qaratog earthquake', 'Tajikistan', '21 October 1907']\n",
      "['21', '12,000', '8.0', '1934 Nepal–India earthquake', 'India', '15 January 1934']\n",
      "['21', '12,000', '5.8', '1960 Agadir earthquake', 'Morocco', '29 February 1960']\n",
      "['24', '11,000', '6.3', '1972 Nicaragua earthquake', 'Nicaragua', '23 December 1972']\n",
      "['25', '10,000', '8.0', '1931 Fuyun earthquake', 'China', '11 August 1931']\n",
      "['25', '10,000', '7.8', '1944 San Juan earthquake', 'Argentina', '15 January 1944']\n",
      "['25', '10,000', '8.0', '1985 Mexico City earthquake', 'Mexico', '19 September 1985']\n"
     ]
    }
   ],
   "source": [
    "rows = []\n",
    "\n",
    "for row in data_rows:\n",
    "    value = row.find_all('td')\n",
    "    readable_value = [dp.text.strip() for dp in value]\n",
    "    print(readable_value)\n",
    "    \n",
    "    if len(readable_value) == 0:\n",
    "        continue\n",
    "        \n",
    "    rows.append(readable_value)"
   ]
  },
  {
   "cell_type": "code",
   "execution_count": 10,
   "metadata": {},
   "outputs": [
    {
     "data": {
      "text/html": [
       "<div>\n",
       "<style scoped>\n",
       "    .dataframe tbody tr th:only-of-type {\n",
       "        vertical-align: middle;\n",
       "    }\n",
       "\n",
       "    .dataframe tbody tr th {\n",
       "        vertical-align: top;\n",
       "    }\n",
       "\n",
       "    .dataframe thead th {\n",
       "        text-align: right;\n",
       "    }\n",
       "</style>\n",
       "<table border=\"1\" class=\"dataframe\">\n",
       "  <thead>\n",
       "    <tr style=\"text-align: right;\">\n",
       "      <th></th>\n",
       "      <th>Rank</th>\n",
       "      <th>Fatalities</th>\n",
       "      <th>Magnitude</th>\n",
       "      <th>Event</th>\n",
       "      <th>Location</th>\n",
       "      <th>Date</th>\n",
       "    </tr>\n",
       "  </thead>\n",
       "  <tbody>\n",
       "    <tr>\n",
       "      <th>0</th>\n",
       "      <td>1</td>\n",
       "      <td>273,400</td>\n",
       "      <td>7.8 Ms</td>\n",
       "      <td>1920 Haiyuan earthquake</td>\n",
       "      <td>China</td>\n",
       "      <td>16 December 1920</td>\n",
       "    </tr>\n",
       "    <tr>\n",
       "      <th>1</th>\n",
       "      <td>2</td>\n",
       "      <td>242,000</td>\n",
       "      <td>7.6</td>\n",
       "      <td>1976 Tangshan earthquake</td>\n",
       "      <td>China</td>\n",
       "      <td>28 July 1976</td>\n",
       "    </tr>\n",
       "    <tr>\n",
       "      <th>2</th>\n",
       "      <td>3</td>\n",
       "      <td>142,800</td>\n",
       "      <td>8.2</td>\n",
       "      <td>1923 Great Kantō earthquake</td>\n",
       "      <td>Japan</td>\n",
       "      <td>1 September 1923</td>\n",
       "    </tr>\n",
       "    <tr>\n",
       "      <th>3</th>\n",
       "      <td>4</td>\n",
       "      <td>110,000</td>\n",
       "      <td>7.3 Ms</td>\n",
       "      <td>1948 Ashgabat earthquake</td>\n",
       "      <td>Turkmen SSR</td>\n",
       "      <td>5 October 1948</td>\n",
       "    </tr>\n",
       "    <tr>\n",
       "      <th>4</th>\n",
       "      <td>5</td>\n",
       "      <td>82,000</td>\n",
       "      <td>7.1 Ms</td>\n",
       "      <td>1908 Messina earthquake</td>\n",
       "      <td>Italy</td>\n",
       "      <td>28 December 1908</td>\n",
       "    </tr>\n",
       "  </tbody>\n",
       "</table>\n",
       "</div>"
      ],
      "text/plain": [
       "  Rank Fatalities Magnitude                        Event     Location  \\\n",
       "0    1    273,400    7.8 Ms      1920 Haiyuan earthquake        China   \n",
       "1    2    242,000       7.6     1976 Tangshan earthquake        China   \n",
       "2    3    142,800       8.2  1923 Great Kantō earthquake        Japan   \n",
       "3    4    110,000    7.3 Ms     1948 Ashgabat earthquake  Turkmen SSR   \n",
       "4    5     82,000    7.1 Ms      1908 Messina earthquake        Italy   \n",
       "\n",
       "               Date  \n",
       "0  16 December 1920  \n",
       "1      28 July 1976  \n",
       "2  1 September 1923  \n",
       "3    5 October 1948  \n",
       "4  28 December 1908  "
      ]
     },
     "execution_count": 10,
     "metadata": {},
     "output_type": "execute_result"
    }
   ],
   "source": [
    "# creation of Pandas' data frame\n",
    "\n",
    "df_20 = pd.DataFrame(rows)\n",
    "\n",
    "df_20.columns = ths\n",
    "\n",
    "df_20.head(5)"
   ]
  },
  {
   "cell_type": "code",
   "execution_count": 11,
   "metadata": {},
   "outputs": [
    {
     "data": {
      "text/plain": [
       "(27, 6)"
      ]
     },
     "execution_count": 11,
     "metadata": {},
     "output_type": "execute_result"
    }
   ],
   "source": [
    "df_20.shape"
   ]
  },
  {
   "cell_type": "markdown",
   "metadata": {},
   "source": [
    "### Import Wikipedia data of deadliest earthquakes of 21st-century (country and date list)\n",
    "\n",
    "- using Pandas to create data frame; headers and data rows in once"
   ]
  },
  {
   "cell_type": "code",
   "execution_count": 12,
   "metadata": {},
   "outputs": [],
   "source": [
    "wiki_url = \"https://en.wikipedia.org/wiki/Lists_of_21st-century_earthquakes\""
   ]
  },
  {
   "cell_type": "code",
   "execution_count": 13,
   "metadata": {},
   "outputs": [],
   "source": [
    "response = r.get(wiki_url)"
   ]
  },
  {
   "cell_type": "code",
   "execution_count": 14,
   "metadata": {},
   "outputs": [],
   "source": [
    "soup = BeautifulSoup(response.text, 'html.parser')"
   ]
  },
  {
   "cell_type": "code",
   "execution_count": 15,
   "metadata": {},
   "outputs": [],
   "source": [
    "ds = soup.table"
   ]
  },
  {
   "cell_type": "code",
   "execution_count": 35,
   "metadata": {},
   "outputs": [
    {
     "data": {
      "text/html": [
       "<div>\n",
       "<style scoped>\n",
       "    .dataframe tbody tr th:only-of-type {\n",
       "        vertical-align: middle;\n",
       "    }\n",
       "\n",
       "    .dataframe tbody tr th {\n",
       "        vertical-align: top;\n",
       "    }\n",
       "\n",
       "    .dataframe thead th {\n",
       "        text-align: right;\n",
       "    }\n",
       "</style>\n",
       "<table border=\"1\" class=\"dataframe\">\n",
       "  <thead>\n",
       "    <tr style=\"text-align: right;\">\n",
       "      <th></th>\n",
       "      <th>Rank</th>\n",
       "      <th>Fatalities</th>\n",
       "      <th>Magnitude</th>\n",
       "      <th>Location</th>\n",
       "      <th>Event</th>\n",
       "      <th>Date</th>\n",
       "    </tr>\n",
       "  </thead>\n",
       "  <tbody>\n",
       "    <tr>\n",
       "      <th>0</th>\n",
       "      <td>1</td>\n",
       "      <td>227898</td>\n",
       "      <td>9.1</td>\n",
       "      <td>Indonesia, Indian Ocean</td>\n",
       "      <td>2004 Indian Ocean earthquake and tsunami</td>\n",
       "      <td>December 26, 2004</td>\n",
       "    </tr>\n",
       "    <tr>\n",
       "      <th>1</th>\n",
       "      <td>2</td>\n",
       "      <td>160000</td>\n",
       "      <td>7.0</td>\n",
       "      <td>Haiti</td>\n",
       "      <td>2010 Haiti earthquake</td>\n",
       "      <td>January 12, 2010</td>\n",
       "    </tr>\n",
       "    <tr>\n",
       "      <th>2</th>\n",
       "      <td>3</td>\n",
       "      <td>87587</td>\n",
       "      <td>7.9</td>\n",
       "      <td>China</td>\n",
       "      <td>2008 Sichuan earthquake</td>\n",
       "      <td>May 12, 2008</td>\n",
       "    </tr>\n",
       "    <tr>\n",
       "      <th>3</th>\n",
       "      <td>4</td>\n",
       "      <td>87351</td>\n",
       "      <td>7.6</td>\n",
       "      <td>Pakistan</td>\n",
       "      <td>2005 Kashmir earthquake</td>\n",
       "      <td>October 8, 2005</td>\n",
       "    </tr>\n",
       "    <tr>\n",
       "      <th>4</th>\n",
       "      <td>5</td>\n",
       "      <td>26271</td>\n",
       "      <td>6.6</td>\n",
       "      <td>Iran</td>\n",
       "      <td>2003 Bam earthquake</td>\n",
       "      <td>December 26, 2003</td>\n",
       "    </tr>\n",
       "  </tbody>\n",
       "</table>\n",
       "</div>"
      ],
      "text/plain": [
       "   Rank  Fatalities  Magnitude                 Location  \\\n",
       "0     1      227898        9.1  Indonesia, Indian Ocean   \n",
       "1     2      160000        7.0                    Haiti   \n",
       "2     3       87587        7.9                    China   \n",
       "3     4       87351        7.6                 Pakistan   \n",
       "4     5       26271        6.6                     Iran   \n",
       "\n",
       "                                      Event               Date  \n",
       "0  2004 Indian Ocean earthquake and tsunami  December 26, 2004  \n",
       "1                     2010 Haiti earthquake   January 12, 2010  \n",
       "2                   2008 Sichuan earthquake       May 12, 2008  \n",
       "3                   2005 Kashmir earthquake    October 8, 2005  \n",
       "4                       2003 Bam earthquake  December 26, 2003  "
      ]
     },
     "execution_count": 35,
     "metadata": {},
     "output_type": "execute_result"
    }
   ],
   "source": [
    "# creation of Pandas' data frame\n",
    "\n",
    "df = pd.read_html(str(ds))\n",
    "\n",
    "df_21 = df[0]\n",
    "\n",
    "df_21.head(5)"
   ]
  },
  {
   "cell_type": "code",
   "execution_count": 31,
   "metadata": {},
   "outputs": [
    {
     "data": {
      "text/plain": [
       "(15, 6)"
      ]
     },
     "execution_count": 31,
     "metadata": {},
     "output_type": "execute_result"
    }
   ],
   "source": [
    "df_21.shape"
   ]
  },
  {
   "cell_type": "code",
   "execution_count": null,
   "metadata": {},
   "outputs": [],
   "source": []
  }
 ],
 "metadata": {
  "kernelspec": {
   "display_name": "Python 3",
   "language": "python",
   "name": "python3"
  },
  "language_info": {
   "codemirror_mode": {
    "name": "ipython",
    "version": 3
   },
   "file_extension": ".py",
   "mimetype": "text/x-python",
   "name": "python",
   "nbconvert_exporter": "python",
   "pygments_lexer": "ipython3",
   "version": "3.8.5"
  }
 },
 "nbformat": 4,
 "nbformat_minor": 4
}
